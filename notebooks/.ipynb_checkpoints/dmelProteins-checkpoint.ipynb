{
 "cells": [
  {
   "cell_type": "markdown",
   "metadata": {},
   "source": [
    "Defining global path to python. In this case these variables will be stored after one execution"
   ]
  },
  {
   "cell_type": "code",
   "execution_count": 4,
   "metadata": {
    "ExecuteTime": {
     "end_time": "2019-11-15T09:40:05.994777Z",
     "start_time": "2019-11-15T09:40:05.990303Z"
    }
   },
   "outputs": [],
   "source": [
    "SRC='/home/jmurga/mkt/201903/scripts/src'\n",
    "DATA='/home/jmurga/mkt/201903/rawData/dmel'\n",
    "FASTAS='/data/shared/dgn'"
   ]
  },
  {
   "cell_type": "markdown",
   "metadata": {},
   "source": [
    "Required libraries"
   ]
  },
  {
   "cell_type": "code",
   "execution_count": 3,
   "metadata": {
    "ExecuteTime": {
     "end_time": "2019-11-15T09:40:04.795778Z",
     "start_time": "2019-11-15T09:40:04.788368Z"
    }
   },
   "outputs": [],
   "source": [
    "import os\n",
    "import re\n",
    "import sys\n",
    "import numpy as np\n",
    "import pandas as pd\n",
    "import pyfaidx as px"
   ]
  },
  {
   "cell_type": "markdown",
   "metadata": {},
   "source": [
    "Ad-hoc scripts"
   ]
  },
  {
   "cell_type": "code",
   "execution_count": 5,
   "metadata": {
    "ExecuteTime": {
     "end_time": "2019-11-15T09:40:07.239188Z",
     "start_time": "2019-11-15T09:40:07.221266Z"
    }
   },
   "outputs": [],
   "source": [
    "sys.path.insert(0, SRC)\n",
    "from reverseComplement import reverseComplement\n",
    "from degenerancy import degenerate"
   ]
  },
  {
   "cell_type": "markdown",
   "metadata": {
    "heading_collapsed": true
   },
   "source": [
    "### Drosophila melanogaster genes "
   ]
  },
  {
   "cell_type": "markdown",
   "metadata": {
    "hidden": true
   },
   "source": [
    "To execute bash code we created a snippets through nbextensions containing the following paths in order to avoid copy and paste cells. %%bash magic do not recognize previous variables. Adding mkdir command to create necesary paths"
   ]
  },
  {
   "cell_type": "code",
   "execution_count": null,
   "metadata": {
    "ExecuteTime": {
     "end_time": "2019-03-06T09:03:14.692538Z",
     "start_time": "2019-03-06T09:03:14.657941Z"
    },
    "hidden": true
   },
   "outputs": [],
   "source": [
    "%%bash\n",
    "DATA='/home/jmurga/mkt/201903/rawData/dmel/annotations'\n",
    "BASIC='/home/jmurga/mkt/201903/rawData/dmel/annotations/basicAnnotation'\n",
    "CDS='/home/jmurga/mkt/201903/rawData/dmel/annotations/cds'\n",
    "GENES='/home/jmurga/mkt/201903/rawData/dmel/annotations/genes'\n",
    "TEMPORAL='/home/jmurga/mkt/201903/rawData/dmel/annotations/tmp'\n",
    "ALLELEFREQ='/home/jmurga/mkt/201903/rawData/dmel/alleleFrequencies'\n",
    "\n",
    "mkdir -p ${DATA}\n",
    "mkdir -p ${BASIC}\n",
    "mkdir -p ${CDS}\n",
    "mkdir -p ${GENES}\n",
    "mkdir -p ${TEMPORAL}\n",
    "mkdir -p ${ALLELEFREQ}"
   ]
  },
  {
   "cell_type": "markdown",
   "metadata": {
    "heading_collapsed": true,
    "hidden": true
   },
   "source": [
    "#### Download Flybase annotation"
   ]
  },
  {
   "cell_type": "code",
   "execution_count": null,
   "metadata": {
    "ExecuteTime": {
     "end_time": "2019-03-06T09:05:36.973637Z",
     "start_time": "2019-03-06T09:05:05.158497Z"
    },
    "hidden": true
   },
   "outputs": [],
   "source": [
    "%%bash\n",
    "DATA='/home/jmurga/mkt/201903/rawData/dmel/annotations'\n",
    "\n",
    "cd ${DATA}\n",
    "# Flybase annotation\n",
    "wget ftp://ftp.flybase.net/genomes/Drosophila_melanogaster/dmel_r5.57_FB2014_03/gff/dmel-all-no-analysis-r5.57.gff.gz\n",
    "gunzip dmel-all-no-analysis-r5.57.gff.gz"
   ]
  },
  {
   "cell_type": "markdown",
   "metadata": {
    "heading_collapsed": true,
    "hidden": true
   },
   "source": [
    "#### Parsing and cleaning flybase annotation to execute all operations by chr\n",
    "Operate by chr is faster due to grep on smaller files. Each folder contain an specific file foreach chromosome. "
   ]
  },
  {
   "cell_type": "code",
   "execution_count": null,
   "metadata": {
    "ExecuteTime": {
     "end_time": "2019-03-06T09:06:21.062789Z",
     "start_time": "2019-03-06T09:06:04.132264Z"
    },
    "hidden": true
   },
   "outputs": [],
   "source": [
    "%%bash\n",
    "DATA='/home/jmurga/mkt/201903/rawData/dmel/annotations'\n",
    "BASIC='/home/jmurga/mkt/201903/rawData/dmel/annotations/basicAnnotation'\n",
    "CDS='/home/jmurga/mkt/201903/rawData/dmel/annotations/cds'\n",
    "GENES='/home/jmurga/mkt/201903/rawData/dmel/annotations/genes'\n",
    "TEMPORAL='/home/jmurga/mkt/201903/rawData/dmel/annotations/tmp'\n",
    "\n",
    "mkdir -p ${BASIC}\n",
    "mkdir -p ${CDS}\n",
    "mkdir -p ${GENES}\n",
    "mkdir -p ${TEMPORAL}\n",
    "\n",
    "# Extract annotations from gff file\n",
    "sed -e '/^>/,$d' ${DATA}/dmel-all-no-analysis-r5.57.gff | sed -e '/^2LHet/d' -e  '/2RHet/d' -e '/3LHet/d' -e '/3RHet/d' -e  '/^4\\t/d' -e '/dmel_mitochondrion_genome/d' -e '/^U\\t/d' -e '/^Uextra\\t/d' -e  '/^XHet\\t/d' -e '/^YHet\\t/d' -e'/\\tCG/d' > ${DATA}/dmelFiltered.gff\n",
    "# Extract genes information\n",
    "grep -P \"\\tgene\\t\" ${DATA}/dmelFiltered.gff  > ${DATA}/dmelFilteredGenes.gff\n",
    "# Extract CDS information. Only protein coding genes\n",
    "grep -P \"\\tCDS\\t\" ${DATA}/dmelFiltered.gff  > ${DATA}/dmelFilteredCds.gff\n",
    "# Coding gene list. gene_id always on column 9, 3th field\n",
    "cut -f1,9 ${DATA}/dmelFilteredCds.gff | tr ';' '\\t' | cut -f1,2 | sort -u | sort -k1,1 > ${DATA}/codingGeneList.txt\n",
    "\n",
    "\n",
    "CHR=( 2L 2R 3L 3R X )\n",
    "# Parse gff file by chr\n",
    "for nchr in \"${CHR[@]}\"\n",
    "do\n",
    "    echo ${nchr}\n",
    "    grep -P \"${nchr}\\t\"  ${DATA}/dmelFiltered.gff | sort -k4,4n > ${BASIC}/dmelFiltered${nchr}.gff3 \n",
    "    grep -P \"${nchr}\\t\"  ${DATA}/dmelFilteredCds.gff | sort -k1,1 -k4,4n > ${CDS}/dmelFilteredCdsChr${nchr}.gff3 \n",
    "    grep -P \"${nchr}\\t\"  ${DATA}/dmelFilteredGenes.gff | sort -k1,1 -k4,4n > ${GENES}/dmelFilteredGenesChr${nchr}.gff3 \n",
    "done\n",
    "\n",
    "rm ${DATA}/dmel-all-no-analysis-r5.57.gff"
   ]
  },
  {
   "cell_type": "markdown",
   "metadata": {
    "heading_collapsed": true,
    "hidden": true
   },
   "source": [
    "#### Basic cleaned gene file\n",
    "This file will include information about chromosomes, start coordinates, end coordinates strand, gene id and gene name. It will be and perform calculations on gene coordinates. Kind of gff file easier to work with"
   ]
  },
  {
   "cell_type": "code",
   "execution_count": null,
   "metadata": {
    "ExecuteTime": {
     "end_time": "2019-03-06T09:12:21.090969Z",
     "start_time": "2019-03-06T09:08:42.985793Z"
    },
    "hidden": true
   },
   "outputs": [],
   "source": [
    "%%bash\n",
    "DATA='/home/jmurga/mkt/201903/rawData/dmel/annotations'\n",
    "GENES='/home/jmurga/mkt/201903/rawData/dmel/annotations/genes'\n",
    "touch ${DATA}/flybaseGenesCleaned.tab \n",
    "printf \"chr\\tstart\\tend\\tstrand\\tid\\tname\\n\" > ${DATA}/flybaseGenesCleaned.tab\n",
    "\n",
    "time while read LINE;\n",
    "do \n",
    "    CHR=$(echo ${LINE} | cut -d' ' -f1)\n",
    "    GENE=$(echo ${LINE} | cut -d' ' -f2 | sed 's/-cds//g')\n",
    "    # echo $GENE\n",
    "\n",
    "    fgrep `echo \"${GENE};\"`  ${GENES}/dmelFilteredGenesChr${CHR}.gff3 | fgrep ${CHR} |  cut -f1,4,5,7,9 | tr ';' '\\t' | cut -f1,2,3,4,5,6 \n",
    "    \n",
    "done < ${DATA}/codingGeneList.txt | tr ' ' '\\t' | sed 's/ID=//g' | sed 's/Name=//g' | sort -k1,1 -k2,2n >> ${DATA}/flybaseGenesCleaned.tab"
   ]
  },
  {
   "cell_type": "code",
   "execution_count": null,
   "metadata": {
    "ExecuteTime": {
     "end_time": "2019-03-06T09:14:22.480373Z",
     "start_time": "2019-03-06T09:14:22.366485Z"
    },
    "hidden": true
   },
   "outputs": [],
   "source": [
    "dfGenes = pd.read_csv(DATA + '/annotations/flybaseGenesCleaned.tab',header = 0,sep='\\t')\n",
    "dfGenes.head()"
   ]
  },
  {
   "cell_type": "markdown",
   "metadata": {
    "ExecuteTime": {
     "end_time": "2019-01-29T15:16:03.643881Z",
     "start_time": "2019-01-29T15:16:03.602413Z"
    },
    "hidden": true
   },
   "source": [
    "File to merge features annotated with gene name instead of gene id"
   ]
  },
  {
   "cell_type": "code",
   "execution_count": null,
   "metadata": {
    "ExecuteTime": {
     "end_time": "2019-03-06T09:14:26.430030Z",
     "start_time": "2019-03-06T09:14:26.385073Z"
    },
    "hidden": true
   },
   "outputs": [],
   "source": [
    "idName = dfGenes[['id','name']]\n",
    "idName.to_csv(DATA + '/annotations/idName.tab',sep='\\t',index=False,header=True)"
   ]
  },
  {
   "cell_type": "markdown",
   "metadata": {},
   "source": [
    "### CDS *D. melanogaster* degenerancy "
   ]
  },
  {
   "cell_type": "markdown",
   "metadata": {
    "heading_collapsed": true
   },
   "source": [
    "#### Raw cds coordinates"
   ]
  },
  {
   "cell_type": "code",
   "execution_count": null,
   "metadata": {
    "ExecuteTime": {
     "end_time": "2019-03-06T09:14:47.951878Z",
     "start_time": "2019-03-06T09:14:42.331983Z"
    },
    "code_folding": [],
    "hidden": true
   },
   "outputs": [],
   "source": [
    "%%bash\n",
    "DATA='/home/jmurga/mkt/201903/rawData/dmel/annotations'\n",
    "CDS='/home/jmurga/mkt/201903/rawData/dmel/annotations/cds'\n",
    "TEMPORAL='/home/jmurga/mkt/201903/rawData/dmel/annotations/tmp'\n",
    "\n",
    "touch ${DATA}/cdsCoordinates.tab\n",
    "printf \"name\\tchr\\ttranscript\\ttranscriptSize\\tcoordinates\\n\" > ${DATA}/cdsCoordinates.tab\n",
    "\n",
    "count=0\n",
    "time tail -n+2 ${DATA}/flybaseGenesCleaned.tab | while read LINE;\n",
    "do \n",
    "    echo '*************'    \n",
    "    CHR=$(echo ${LINE} | cut -d' ' -f1)\n",
    "    GENE=$(echo ${LINE} | cut -d' ' -f6)\n",
    "    \n",
    "    printf \"${GENE} ${CHR}\"\n",
    "    \n",
    "    fgrep `echo \"Name=${GENE}-cds;\"` ${CDS}/dmelFilteredCdsChr${CHR}.gff3 | grep -P \"${CHR}\\t\" | cut -f9 | tr ';' '\\n' | fgrep Parent | sort -u | tr ',' '\\n' | cut -d'=' -f2 | sort -u > ${TEMPORAL}/transcriptTmp.tab\n",
    "\n",
    "    while read transcript; do fgrep ${transcript} ${CDS}/dmelFilteredCdsChr${CHR}.gff3 | awk '{print $4,$5,$5-$4}' | awk -v gene=\"${GENE}\" -v chr=\"${CHR}\" -v transcript=\"$transcript\" '{sum+=$1} {printf $1\",\"$2\",\"} END{print \"\\t\"gene\"\\t\"chr\"\\t\"transcript\"\\t\"sum}' | awk '{print $2,$3,$4,$5,$1}' | sed 's/,$//' |tr ' ' '\\t' >> ${DATA}/cdsCoordinates.tab ;done < ${TEMPORAL}/transcriptTmp.tab \n",
    "    \n",
    "    (( count++ ))\n",
    "\n",
    "done"
   ]
  },
  {
   "cell_type": "markdown",
   "metadata": {},
   "source": [
    "#### Check degenerancy by position"
   ]
  },
  {
   "cell_type": "markdown",
   "metadata": {},
   "source": [
    "**Checking degenerancy by positions taking into account all transcripts and genes independently**  \n",
    "Recoding CDS sequences to get 0fold, 2fold, 3fold and 4fold positions by transcript and genes, in order to estimate frequencies and divergence by type of functional sites."
   ]
  },
  {
   "cell_type": "code",
   "execution_count": null,
   "metadata": {},
   "outputs": [],
   "source": [
    "sys.path.insert(0, SRC)\n",
    "from reverseComplement import reverseComplement\n",
    "from degenerancy import degenerate"
   ]
  },
  {
   "cell_type": "code",
   "execution_count": null,
   "metadata": {},
   "outputs": [],
   "source": [
    "dfGenes = pd.read_csv(DATA + '/annotations/flybaseGenesCleaned.tab',header = 0,usecols=['id','name','chr','strand'],sep='\\t')\n",
    "cds = pd.read_csv(DATA + '/annotations/cdsCoordinates.tab',header=0,sep='\\t')\n",
    "cds = pd.merge(cds, dfGenes,  how='inner', left_on=['chr','name'], right_on = ['chr','name'])"
   ]
  },
  {
   "cell_type": "code",
   "execution_count": null,
   "metadata": {
    "ExecuteTime": {
     "end_time": "2019-11-11T12:40:58.952896Z",
     "start_time": "2019-11-11T12:40:58.944972Z"
    },
    "code_folding": []
   },
   "outputs": [],
   "source": [
    "def foldPositions(x):\n",
    "    if('0' in x):\n",
    "        return('0fold')\n",
    "    elif('4' in x and '0' not in x and '2' not in x and '3' not in x):\n",
    "        return('4fold')\n",
    "    elif('2' in x and '0' not in x and '4' not in x and '3' not in x):\n",
    "        return('2fold')\n",
    "    elif('2' not in x and '0' not in x and '4' not in x) :\n",
    "        return('3fold')\n",
    "    else:\n",
    "        return('mixed')"
   ]
  },
  {
   "cell_type": "code",
   "execution_count": null,
   "metadata": {
    "ExecuteTime": {
     "end_time": "2019-11-13T10:48:57.823018Z",
     "start_time": "2019-11-13T10:48:57.763548Z"
    }
   },
   "outputs": [],
   "source": [
    "import time\n",
    "# for index, row in cds.iterrows():\n",
    "df = pd.DataFrame()\n",
    "# for geneId in np.unique(cds[(cds['id']=='FBgn0000028')].id):\n",
    "for j in range(0,len(np.unique(cds.id))):\n",
    "    start_time = time.time()\n",
    "   \n",
    "    geneId = np.unique(cds.id)[j]\n",
    "#     geneId = geneId\n",
    "    df = pd.DataFrame()\n",
    "    print(geneId)\n",
    "    \n",
    "    for index, row in cds[(cds['id']==geneId)].iterrows():\n",
    "        \n",
    "        # Rewrite file each execution\n",
    "        degen = []\n",
    "        \n",
    "        chrFile = px.Fasta(FASTAS + '/ref/Chr' + row['chr'] +'.fasta',sequence_always_upper=True)\n",
    "\n",
    "        # Convert CDS list into numeric array\n",
    "        coordinates = np.array(row['coordinates'].split(',')).astype(int).tolist()\n",
    "        coordinates =  [coordinates[i:i+2] for i in range(0, len(coordinates), 2)]\n",
    "\n",
    "        # Extract all CDS positions in a list in order to merge with degenerate sequences (same length -> same index)\n",
    "        positions=[]\n",
    "        for i in range(0,len(coordinates),1):\n",
    "            positions.append(list(range(coordinates[i][0],coordinates[i][1]+1)))  \n",
    "        allPositions = [item for sublist in positions for item in sublist]\n",
    "        allPositions = np.asarray(allPositions)\n",
    "\n",
    "        # Extract cds sequences\n",
    "        seq = chrFile.get_spliced_seq(row['chr'], coordinates).seq\n",
    "        if(row['strand'] == '-'):\n",
    "            seq = reverseComplement(seq)\n",
    "            allPositions = allPositions[::-1]\n",
    "        if((len(seq)/3).is_integer() and seq[0:3]=='ATG'):\n",
    "            # Append in list \n",
    "            m = degenerateFullPositions(seq)\n",
    "            degen.append(list(m))\n",
    "            nchr = np.array([row['chr']] * len(m))\n",
    "            \n",
    "            degen = [item for sublist in degen for item in sublist]\n",
    "            degen = np.asarray(degen)\n",
    "\n",
    "            data =  {'CHROM':nchr,'POS':allPositions,'degen':degen}\n",
    "            tmp = pd.DataFrame(data)\n",
    "\n",
    "            df = df.append(tmp)\n",
    "            df = df.groupby(['CHROM','POS']).agg({'degen':','.join}).reset_index()\n",
    "\n",
    "    #Save df\n",
    "    df.to_csv(DATA + '/annotations/degeneracyDmelPositions.tab',mode='a',index=False,header=False,sep='\\t')\n",
    "    print(j,geneId,\"--- %s seconds ---\" % (time.time() - start_time))"
   ]
  },
  {
   "cell_type": "markdown",
   "metadata": {},
   "source": [
    "Cleaning positions degenerancy based on most constrain posibility"
   ]
  },
  {
   "cell_type": "code",
   "execution_count": null,
   "metadata": {},
   "outputs": [],
   "source": [
    "df = pd.read_csv(DATA + '/annotations/degeneracyDmelPositions.tab',sep='\\t',header=None,names=['CHROM','POS','degen'])\n",
    "    \n",
    "chrList = ['2L','2R','3L','3R','X']\n",
    "import time\n",
    "for nchr in chrList:\n",
    "    start_time = time.time()\n",
    "    print(nchr)\n",
    "    tmp = df[df['CHROM'] == nchr]\n",
    "    tmp = tmp.groupby(['CHROM','POS']).agg({'degen':','.join}).reset_index()\n",
    "    tmp['type'] = np.nan\n",
    "\n",
    "    tmp['type'] = tmp['degen'].apply(lambda row: foldPositions(row))\n",
    "    tmp = tmp.sort_values('POS')\n",
    "    \n",
    "    tmp.to_csv(DATA + '/annotations/zeroFourFoldPositions.tab',header=False,index=False,mode='a',sep='\\t')\n",
    "    print(\"--- %s seconds ---\" % (time.time() - start_time))"
   ]
  },
  {
   "cell_type": "markdown",
   "metadata": {
    "heading_collapsed": true
   },
   "source": [
    "#### Undetermined nucleotide distributions by cds position"
   ]
  },
  {
   "cell_type": "code",
   "execution_count": null,
   "metadata": {
    "hidden": true
   },
   "outputs": [],
   "source": [
    "dfGenes = pd.read_csv(DATA + '/annotations/flybaseGenesCleaned.tab',header = 0,sep='\\t')\n",
    "cds = pd.read_csv(DATA + '/annotations/cdsCoordinates.tab',header = 0,sep='\\t')\n",
    "cds = pd.merge(cds, dfGenes,  how='inner', left_on=['chr','name'], right_on = ['chr','name'])\n",
    "cds = cds.loc[cds.reset_index().groupby(['chr','id'])['transcriptSize'].idxmax()].reset_index(drop=True)"
   ]
  },
  {
   "cell_type": "code",
   "execution_count": null,
   "metadata": {
    "ExecuteTime": {
     "end_time": "2019-02-20T12:11:27.134297Z",
     "start_time": "2019-02-20T12:11:27.110133Z"
    },
    "code_folding": [
     1
    ],
    "hidden": true
   },
   "outputs": [],
   "source": [
    "nCallsByPositions = []\n",
    "for index, row in cds.iterrows():    \n",
    "# for index, row in cds.iterrows():\n",
    "    print(row['id'])\n",
    "    # Convert CDS list into numeric array\n",
    "    coordinates = array(row['coordinates'].split(',')).astype(int).tolist()\n",
    "    coordinates =  [coordinates[i:i+2] for i in range(0, len(coordinates), 2)]\n",
    "    # Open ref and outgroup\n",
    "    ref = Fasta(DATA + '/fastas/ref/Chr' + row['chr'] +'.fasta')  \n",
    "    ## Extract ref and outgroup seq\n",
    "    refSeq = ref.get_spliced_seq(row['chr'],coordinates).seq.upper()    \n",
    "#     refSeq = ref.get_seq(row['chr'],row['startGene'],row['endGene']).seq.upper()    \n",
    "#     if(('N' not in refSeq) and (len(refSeq)/3).is_integer()):\n",
    "    if('N' not in refSeq):\n",
    "        # Open population multifasta\n",
    "        popFasta = Fasta(DATA + '/fastas/alignments/' + 'ZI_' + 'Chr' + row['chr'] +'.seq')\n",
    "        #Extract samples\n",
    "        samples = list(popFasta.keys())\n",
    "        matrixDna = np.empty([len(samples)+1,len(refSeq)],dtype='str')\n",
    "        if(row['strand'] == '-'):            \n",
    "            refSeq = reverseComplement(refSeq)\n",
    "            matrixDna[0] = list(refSeq)\n",
    "            for i in range(0,len(samples),1):\n",
    "                tmp = popFasta.get_spliced_seq(samples[i], coordinates).seq.upper()\n",
    "#                 tmp = popFasta.get_seq(samples[i], row['startGene'],row['endGene']).seq.upper()\n",
    "                tmp = reverseComplement(tmp)\n",
    "                matrixDna[i+1] = list(tmp)\n",
    "        else:\n",
    "            matrixDna[0] = list(refSeq)\n",
    "            for i in range(0,len(samples),1):\n",
    "#                 tmp = popFasta.get_seq(samples[i],row['startGene'],row['endGene']).seq.upper()\n",
    "                tmp = popFasta.get_spliced_seq(samples[i], coordinates).seq.upper()\n",
    "                matrixDna[i+1] = list(tmp)\n",
    "        # Count occurences\n",
    "        df = pd.DataFrame(matrixDna).transpose()\n",
    "        for i,r in df.iterrows():\n",
    "            if('N' in r.values):\n",
    "                tmp = pd.DataFrame({'m':r.value_counts()['N']},index=[0])\n",
    "                tmp.to_csv('/home/jmurga/mkt/201903/rawData/dmel/nCall/ncallzi.tab',header=False,index=False,mode='a')\n",
    "            else:\n",
    "                continue\n",
    "    else:\n",
    "        continue"
   ]
  },
  {
   "cell_type": "code",
   "execution_count": null,
   "metadata": {
    "hidden": true
   },
   "outputs": [],
   "source": [
    "nCalls = pd.Series(nCallsByPositions).value_counts().reset_index()\n",
    "nCalls = pd.DataFrame(nCalls)\n",
    "nCalls = nCalls.sort_values('index')\n",
    "nCalls['freq'] = nCalls[0].apply(lambda x: x/sum(nCalls[0])*100)\n",
    "nCalls.columns = ['positions','count','freq']\n",
    "nCalls.to_csv('/home/jmurga/mkt/201903/rawData/dmel/nCall/ncallea.tab',sep='\\t',header=True,index=False)\n",
    "nCalls"
   ]
  },
  {
   "cell_type": "code",
   "execution_count": null,
   "metadata": {
    "hidden": true
   },
   "outputs": [],
   "source": [
    "nCalls.to_csv('/home/jmurga/mkt/201903/rawData/dmel/nCall/ByPositionsAllGenes.tab')"
   ]
  },
  {
   "cell_type": "markdown",
   "metadata": {
    "heading_collapsed": true
   },
   "source": [
    "### Extracting Derived Allele Frequency and Divergence by population and type of site"
   ]
  },
  {
   "cell_type": "markdown",
   "metadata": {
    "hidden": true
   },
   "source": [
    "Opening cdsCoordinates file to extract fasta sequence using pyfaidx"
   ]
  },
  {
   "cell_type": "code",
   "execution_count": null,
   "metadata": {
    "ExecuteTime": {
     "end_time": "2019-02-28T13:54:38.318387Z",
     "start_time": "2019-02-28T13:54:37.055325Z"
    },
    "hidden": true
   },
   "outputs": [],
   "source": [
    "!python /home/jmurga/mkt/201903/scripts/src/sfsDivergence.py --help"
   ]
  },
  {
   "cell_type": "markdown",
   "metadata": {
    "hidden": true
   },
   "source": [
    "#### American populations"
   ]
  },
  {
   "cell_type": "code",
   "execution_count": null,
   "metadata": {
    "ExecuteTime": {
     "end_time": "2019-02-28T13:56:02.032818Z",
     "start_time": "2019-02-28T13:55:55.955286Z"
    },
    "hidden": true
   },
   "outputs": [],
   "source": [
    "!python /home/jmurga/mkt/201903/scripts/src/sfsDivergence.py --genes flybaseGenesCleaned.tab --cds cdsCoordinates.tab --population RAL --sampling 160 --outgroup dsim"
   ]
  },
  {
   "cell_type": "code",
   "execution_count": null,
   "metadata": {
    "ExecuteTime": {
     "end_time": "2019-02-28T13:56:02.032818Z",
     "start_time": "2019-02-28T13:55:55.955286Z"
    },
    "hidden": true
   },
   "outputs": [],
   "source": [
    "!python /home/jmurga/mkt/201903/scripts/src/sfsDivergence.py --genes flybaseGenesCleaned.tab --cds cdsCoordinates.tab --population USI --sampling 15 --outgroup dsim"
   ]
  },
  {
   "cell_type": "code",
   "execution_count": null,
   "metadata": {
    "ExecuteTime": {
     "end_time": "2019-02-28T13:56:02.032818Z",
     "start_time": "2019-02-28T13:55:55.955286Z"
    },
    "hidden": true
   },
   "outputs": [],
   "source": [
    "!python /home/jmurga/mkt/201903/scripts/src/sfsDivergence.py --genes flybaseGenesCleaned.tab --cds cdsCoordinates.tab --population USW --sampling 27 --outgroup dsim"
   ]
  },
  {
   "cell_type": "markdown",
   "metadata": {
    "hidden": true
   },
   "source": [
    "#### African populations"
   ]
  },
  {
   "cell_type": "code",
   "execution_count": null,
   "metadata": {
    "hidden": true
   },
   "outputs": [],
   "source": [
    "!python /home/jmurga/mkt/201903/scripts/src/sfsDivergence.py --genes flybaseGenesCleaned.tab --cds cdsCoordinates.tab --population CO --sampling 9 --outgroup dsim"
   ]
  },
  {
   "cell_type": "code",
   "execution_count": null,
   "metadata": {
    "hidden": true
   },
   "outputs": [],
   "source": [
    "!python /home/jmurga/mkt/201903/scripts/src/sfsDivergence.py --genes flybaseGenesCleaned.tab --cds cdsCoordinates.tab --population EA --sampling 10 --outgroup dsim"
   ]
  },
  {
   "cell_type": "code",
   "execution_count": null,
   "metadata": {
    "hidden": true
   },
   "outputs": [],
   "source": [
    "!python /home/jmurga/mkt/201903/scripts/src/sfsDivergence.py --genes flybaseGenesCleaned.tab --cds cdsCoordinates.tab --population EF --sampling 25 --outgroup dsim"
   ]
  },
  {
   "cell_type": "code",
   "execution_count": null,
   "metadata": {
    "hidden": true
   },
   "outputs": [],
   "source": [
    "!python /home/jmurga/mkt/201903/scripts/src/sfsDivergence.py --genes flybaseGenesCleaned.tab --cds cdsCoordinates.tab --population EG --sampling 10 --outgroup dsim"
   ]
  },
  {
   "cell_type": "code",
   "execution_count": null,
   "metadata": {
    "hidden": true
   },
   "outputs": [],
   "source": [
    "!python /home/jmurga/mkt/201903/scripts/src/sfsDivergence.py --genes flybaseGenesCleaned.tab --cds cdsCoordinates.tab --population GA --sampling 7 --outgroup dsim"
   ]
  },
  {
   "cell_type": "code",
   "execution_count": null,
   "metadata": {
    "hidden": true
   },
   "outputs": [],
   "source": [
    "!python /home/jmurga/mkt/201903/scripts/src/sfsDivergence.py --genes flybaseGenesCleaned.tab --cds cdsCoordinates.tab --population RG --sampling 21 --outgroup dsim"
   ]
  },
  {
   "cell_type": "code",
   "execution_count": null,
   "metadata": {
    "hidden": true
   },
   "outputs": [],
   "source": [
    "!python /home/jmurga/mkt/201903/scripts/src/sfsDivergence.py --genes flybaseGenesCleaned.tab --cds cdsCoordinates.tab --population SP --sampling 20 --outgroup dsim"
   ]
  },
  {
   "cell_type": "code",
   "execution_count": null,
   "metadata": {
    "hidden": true
   },
   "outputs": [],
   "source": [
    "!python /home/jmurga/mkt/201903/scripts/src/sfsDivergence.py --genes flybaseGenesCleaned.tab --cds cdsCoordinates.tab --population SD --sampling 30 --outgroup dsim"
   ]
  },
  {
   "cell_type": "code",
   "execution_count": null,
   "metadata": {
    "hidden": true
   },
   "outputs": [],
   "source": [
    "!python /home/jmurga/mkt/201903/scripts/src/sfsDivergence.py --genes flybaseGenesCleaned.tab --cds cdsCoordinates.tab --population ZI --sampling 154 --outgroup dsim"
   ]
  },
  {
   "cell_type": "markdown",
   "metadata": {
    "heading_collapsed": true,
    "hidden": true
   },
   "source": [
    "#### Asia"
   ]
  },
  {
   "cell_type": "code",
   "execution_count": null,
   "metadata": {
    "hidden": true
   },
   "outputs": [],
   "source": [
    "!python /home/jmurga/mkt/201903/scripts/src/sfsDivergence.py --genes flybaseGenesCleaned.tab --cds cdsCoordinates.tab --population CHB --sampling 12 --outgroup dsim"
   ]
  },
  {
   "cell_type": "markdown",
   "metadata": {
    "heading_collapsed": true,
    "hidden": true
   },
   "source": [
    "#### Europe"
   ]
  },
  {
   "cell_type": "code",
   "execution_count": null,
   "metadata": {
    "hidden": true
   },
   "outputs": [],
   "source": [
    "!python /home/jmurga/mkt/201903/scripts/src/sfsDivergence.py --genes flybaseGenesCleaned.tab --cds cdsCoordinates.tab --population FR --sampling 70 --outgroup dsim"
   ]
  },
  {
   "cell_type": "code",
   "execution_count": null,
   "metadata": {
    "hidden": true
   },
   "outputs": [],
   "source": [
    "!python /home/jmurga/mkt/201903/scripts/src/sfsDivergence.py --genes flybaseGenesCleaned.tab --cds cdsCoordinates.tab --population NTH --sampling 11 --outgroup dsim"
   ]
  },
  {
   "cell_type": "markdown",
   "metadata": {
    "heading_collapsed": true,
    "hidden": true
   },
   "source": [
    "#### Oceania"
   ]
  },
  {
   "cell_type": "code",
   "execution_count": null,
   "metadata": {
    "hidden": true
   },
   "outputs": [],
   "source": [
    "!python /home/jmurga/mkt/201903/scripts/src/sfsDivergence.py --genes flybaseGenesCleaned.tab --cds cdsCoordinates.tab --population AUS --sampling 14 --outgroup dsim"
   ]
  },
  {
   "cell_type": "markdown",
   "metadata": {},
   "source": [
    "### Estimating metrics *D. simulans*"
   ]
  },
  {
   "cell_type": "markdown",
   "metadata": {},
   "source": [
    "#### Extracting mi and m0"
   ]
  },
  {
   "cell_type": "code",
   "execution_count": null,
   "metadata": {
    "ExecuteTime": {
     "end_time": "2019-11-14T13:42:34.254856Z",
     "start_time": "2019-11-14T13:42:17.678952Z"
    }
   },
   "outputs": [],
   "source": [
    "dfGenes = pd.read_csv('/home/jmurga/mkt/201903/rawData/dmel/annotations/flybaseGenesCleaned.tab',header = 0,usecols=['id','name','chr','strand'],sep='\\t')\n",
    "cds = pd.read_csv('/home/jmurga/mkt/201903/rawData/dmel/annotations/cdsLargest.tab',header=0,sep='\\t')\n",
    "cds = pd.merge(cds, dfGenes,  how='inner', left_on=['chr','name'], right_on = ['chr','name'])\n",
    "degeneratePositions = pd.read_csv('/home/jmurga/mkt/201903/rawData/dmel/annotations/zeroFourFoldPositions.tab',header=None,names=['CHROM','POS','degen','type'],sep='\\t')"
   ]
  },
  {
   "cell_type": "code",
   "execution_count": null,
   "metadata": {
    "code_folding": []
   },
   "outputs": [],
   "source": [
    "# Rewrite file each execution\n",
    "columns = ['id','mi','m0']\n",
    "totalFoldPositions = pd.DataFrame(columns=columns)\n",
    "for j in cds['chr'].unique():\n",
    "    print(j)\n",
    "    chrPositions = degeneratePositions[degeneratePositions['chr']==j]\n",
    "    for index, row in cds[cds['chr']==j].iterrows():\n",
    "        print(index,row['id'])\n",
    "        chrFile = Fasta('/data/shared/dgn/ref/Chr' + row['chr'] +'.fasta')\n",
    "    #     Convert CDS list into numeric array\n",
    "        coordinates = np.array(row['coordinates'].split(',')).astype(int).tolist()\n",
    "        coordinates =  [coordinates[i:i+2] for i in range(0, len(coordinates), 2)]\n",
    "        # Extract all CDS positions in a list in order to merge with degenerate sequences (same length -> same index)\n",
    "        positions=[]\n",
    "        for i in range(0,len(coordinates),1):\n",
    "            positions.append(list(range(coordinates[i][0],coordinates[i][1]+1)))  \n",
    "        allPositions = [item for sublist in positions for item in sublist]\n",
    "        # Extract cds sequences\n",
    "        seq = chrFile.get_spliced_seq(row['chr'].replace('chr',''), coordinates).seq.upper()\n",
    "    #     print(len(seq))\n",
    "        if(row['strand'] == '-'):\n",
    "            seq = reverseComplement(seq)\n",
    "            allPositions = allPositions[::-1]\n",
    "        if((len(seq)/3).is_integer() and seq[0:3]=='ATG'):\n",
    "            m = degenerate(seq)\n",
    "            tmp = pd.DataFrame({'POS':allPositions,'m':list(m)})\n",
    "            tmp['chr']=row['chr']\n",
    "            tmp = pd.merge(chrPositions,tmp,on=['chr','POS'],how='right')              \n",
    "            tmp['m'] = tmp.apply(lambda x: '0' if x['newType']=='0fold' else '4' if x['newType']=='4fold' else x['m'],axis=1)\n",
    "\n",
    "            counts = tmp['m'].value_counts()\n",
    "            if(counts.shape[0]<4 or '4' not in counts.index):\n",
    "                m0=0\n",
    "                mi=counts['0']\n",
    "            else:\n",
    "                m0=counts['4']\n",
    "                mi=counts['0']\n",
    "            data = pd.DataFrame({'id':row['id'],'mi':mi,'m0':m0},index=[0])\n",
    "            totalFoldPositions = totalFoldPositions.append(data,ignore_index=True)\n",
    "        else:\n",
    "            data = pd.DataFrame({'id':row['id'],'mi':0,'m0':0},index=[0])\n",
    "            totalFoldPositions = totalFoldPositions.append(data,ignore_index=True)"
   ]
  },
  {
   "cell_type": "markdown",
   "metadata": {
    "heading_collapsed": true
   },
   "source": [
    "#### Extract by population Derived Allele Frequency and Divergence in a file to format by functional class and populations"
   ]
  },
  {
   "cell_type": "code",
   "execution_count": 6,
   "metadata": {
    "ExecuteTime": {
     "end_time": "2019-11-15T09:40:31.953184Z",
     "start_time": "2019-11-15T09:40:14.325024Z"
    },
    "hidden": true
   },
   "outputs": [],
   "source": [
    "degeneratePositions = pd.read_csv('/home/jmurga/mkt/201903/rawData/dmel/annotations/zeroFourFoldPositions.tab',header=None,names=['CHROM','POS','degen','type'],sep='\\t')"
   ]
  },
  {
   "cell_type": "code",
   "execution_count": 7,
   "metadata": {
    "ExecuteTime": {
     "end_time": "2019-11-15T09:42:54.864802Z",
     "start_time": "2019-11-15T09:41:38.069564Z"
    },
    "hidden": true
   },
   "outputs": [
    {
     "name": "stdout",
     "output_type": "stream",
     "text": [
      "AUS\n",
      "CHB\n",
      "CO\n",
      "EA\n",
      "EF\n",
      "EG\n",
      "FR\n",
      "GA\n",
      "NTH\n",
      "RAL\n",
      "RG\n",
      "SD\n",
      "SP\n",
      "USI\n",
      "USW\n",
      "ZI\n"
     ]
    }
   ],
   "source": [
    "pops=['AUS','CHB','CO','EA','EF','EG','FR','GA','NTH','RAL','RG','SD','SP','USI','USW','ZI']    \n",
    "\n",
    "for p in pops:\n",
    "    print(p)\n",
    "    popSites = pd.read_csv(DATA + '/alleleFrequencies/dsim/' + 'dsimDmelSites' + p + '.tab',sep='\\t',header=None,names=['id','chr','POS','div','rawDerivedAllele','type','pop'])\n",
    "        \n",
    "    popSites.to_csv(DATA+ '/alleleFrequencies/dsim/dsimDmelSites.tab',sep='\\t',index=False,header=False,mode='a')"
   ]
  },
  {
   "cell_type": "code",
   "execution_count": 42,
   "metadata": {
    "ExecuteTime": {
     "end_time": "2019-11-15T10:08:34.441442Z",
     "start_time": "2019-11-15T10:08:22.533464Z"
    },
    "hidden": true
   },
   "outputs": [
    {
     "data": {
      "text/html": [
       "<div>\n",
       "<style scoped>\n",
       "    .dataframe tbody tr th:only-of-type {\n",
       "        vertical-align: middle;\n",
       "    }\n",
       "\n",
       "    .dataframe tbody tr th {\n",
       "        vertical-align: top;\n",
       "    }\n",
       "\n",
       "    .dataframe thead th {\n",
       "        text-align: right;\n",
       "    }\n",
       "</style>\n",
       "<table border=\"1\" class=\"dataframe\">\n",
       "  <thead>\n",
       "    <tr style=\"text-align: right;\">\n",
       "      <th></th>\n",
       "      <th>id</th>\n",
       "      <th>CHROM</th>\n",
       "      <th>POS</th>\n",
       "      <th>div</th>\n",
       "      <th>rawDerivedAllele</th>\n",
       "      <th>pop</th>\n",
       "    </tr>\n",
       "  </thead>\n",
       "  <tbody>\n",
       "    <tr>\n",
       "      <th>0</th>\n",
       "      <td>FBgn0000018</td>\n",
       "      <td>2L</td>\n",
       "      <td>10975207</td>\n",
       "      <td>1</td>\n",
       "      <td>0.000000</td>\n",
       "      <td>AUS</td>\n",
       "    </tr>\n",
       "    <tr>\n",
       "      <th>1</th>\n",
       "      <td>FBgn0000018</td>\n",
       "      <td>2L</td>\n",
       "      <td>10975203</td>\n",
       "      <td>1</td>\n",
       "      <td>0.000000</td>\n",
       "      <td>AUS</td>\n",
       "    </tr>\n",
       "    <tr>\n",
       "      <th>2</th>\n",
       "      <td>FBgn0000018</td>\n",
       "      <td>2L</td>\n",
       "      <td>10975191</td>\n",
       "      <td>1</td>\n",
       "      <td>0.000000</td>\n",
       "      <td>AUS</td>\n",
       "    </tr>\n",
       "    <tr>\n",
       "      <th>3</th>\n",
       "      <td>FBgn0000018</td>\n",
       "      <td>2L</td>\n",
       "      <td>10975141</td>\n",
       "      <td>0</td>\n",
       "      <td>0.428571</td>\n",
       "      <td>AUS</td>\n",
       "    </tr>\n",
       "    <tr>\n",
       "      <th>4</th>\n",
       "      <td>FBgn0000018</td>\n",
       "      <td>2L</td>\n",
       "      <td>10975091</td>\n",
       "      <td>1</td>\n",
       "      <td>0.000000</td>\n",
       "      <td>AUS</td>\n",
       "    </tr>\n",
       "  </tbody>\n",
       "</table>\n",
       "</div>"
      ],
      "text/plain": [
       "            id CHROM       POS  div  rawDerivedAllele  pop\n",
       "0  FBgn0000018    2L  10975207    1          0.000000  AUS\n",
       "1  FBgn0000018    2L  10975203    1          0.000000  AUS\n",
       "2  FBgn0000018    2L  10975191    1          0.000000  AUS\n",
       "3  FBgn0000018    2L  10975141    0          0.428571  AUS\n",
       "4  FBgn0000018    2L  10975091    1          0.000000  AUS"
      ]
     },
     "execution_count": 42,
     "metadata": {},
     "output_type": "execute_result"
    }
   ],
   "source": [
    "dmelSites = pd.read_csv(DATA+ '/alleleFrequencies/dsim/dsimDmelSites.tab', sep='\\t', header=None)\n",
    "dmelSites.columns = ['id','CHROM','POS','div','rawDerivedAllele','type','pop']\n",
    "dmelSites = dmelSites.drop('type',axis=1)\n",
    "dmelSites.head()"
   ]
  },
  {
   "cell_type": "code",
   "execution_count": 43,
   "metadata": {
    "ExecuteTime": {
     "end_time": "2019-11-15T10:09:03.887423Z",
     "start_time": "2019-11-15T10:08:35.011172Z"
    },
    "hidden": true
   },
   "outputs": [
    {
     "data": {
      "text/html": [
       "<div>\n",
       "<style scoped>\n",
       "    .dataframe tbody tr th:only-of-type {\n",
       "        vertical-align: middle;\n",
       "    }\n",
       "\n",
       "    .dataframe tbody tr th {\n",
       "        vertical-align: top;\n",
       "    }\n",
       "\n",
       "    .dataframe thead th {\n",
       "        text-align: right;\n",
       "    }\n",
       "</style>\n",
       "<table border=\"1\" class=\"dataframe\">\n",
       "  <thead>\n",
       "    <tr style=\"text-align: right;\">\n",
       "      <th></th>\n",
       "      <th>id</th>\n",
       "      <th>CHROM</th>\n",
       "      <th>POS</th>\n",
       "      <th>div</th>\n",
       "      <th>rawDerivedAllele</th>\n",
       "      <th>pop</th>\n",
       "      <th>degen</th>\n",
       "      <th>type</th>\n",
       "    </tr>\n",
       "  </thead>\n",
       "  <tbody>\n",
       "    <tr>\n",
       "      <th>0</th>\n",
       "      <td>FBgn0000018</td>\n",
       "      <td>2L</td>\n",
       "      <td>10975207</td>\n",
       "      <td>1</td>\n",
       "      <td>0.000000</td>\n",
       "      <td>AUS</td>\n",
       "      <td>4</td>\n",
       "      <td>4fold</td>\n",
       "    </tr>\n",
       "    <tr>\n",
       "      <th>1</th>\n",
       "      <td>FBgn0000018</td>\n",
       "      <td>2L</td>\n",
       "      <td>10975203</td>\n",
       "      <td>1</td>\n",
       "      <td>0.000000</td>\n",
       "      <td>AUS</td>\n",
       "      <td>0</td>\n",
       "      <td>0fold</td>\n",
       "    </tr>\n",
       "    <tr>\n",
       "      <th>2</th>\n",
       "      <td>FBgn0000018</td>\n",
       "      <td>2L</td>\n",
       "      <td>10975191</td>\n",
       "      <td>1</td>\n",
       "      <td>0.000000</td>\n",
       "      <td>AUS</td>\n",
       "      <td>0</td>\n",
       "      <td>0fold</td>\n",
       "    </tr>\n",
       "    <tr>\n",
       "      <th>3</th>\n",
       "      <td>FBgn0000018</td>\n",
       "      <td>2L</td>\n",
       "      <td>10975141</td>\n",
       "      <td>0</td>\n",
       "      <td>0.428571</td>\n",
       "      <td>AUS</td>\n",
       "      <td>4</td>\n",
       "      <td>4fold</td>\n",
       "    </tr>\n",
       "    <tr>\n",
       "      <th>4</th>\n",
       "      <td>FBgn0000018</td>\n",
       "      <td>2L</td>\n",
       "      <td>10975091</td>\n",
       "      <td>1</td>\n",
       "      <td>0.000000</td>\n",
       "      <td>AUS</td>\n",
       "      <td>0</td>\n",
       "      <td>0fold</td>\n",
       "    </tr>\n",
       "  </tbody>\n",
       "</table>\n",
       "</div>"
      ],
      "text/plain": [
       "            id CHROM       POS  div  rawDerivedAllele  pop degen   type\n",
       "0  FBgn0000018    2L  10975207    1          0.000000  AUS     4  4fold\n",
       "1  FBgn0000018    2L  10975203    1          0.000000  AUS     0  0fold\n",
       "2  FBgn0000018    2L  10975191    1          0.000000  AUS     0  0fold\n",
       "3  FBgn0000018    2L  10975141    0          0.428571  AUS     4  4fold\n",
       "4  FBgn0000018    2L  10975091    1          0.000000  AUS     0  0fold"
      ]
     },
     "execution_count": 43,
     "metadata": {},
     "output_type": "execute_result"
    }
   ],
   "source": [
    "dmelSites = pd.merge(dmelSites,degeneratePositions,how='left',left_on=['CHROM','POS'],right_on=['CHROM','POS'])\n",
    "dmelSites = dmelSites[dmelSites['type']!='mixed']\n",
    "dmelSites.head()"
   ]
  },
  {
   "cell_type": "markdown",
   "metadata": {},
   "source": [
    "#### Divergence"
   ]
  },
  {
   "cell_type": "code",
   "execution_count": 45,
   "metadata": {
    "ExecuteTime": {
     "end_time": "2019-11-15T10:14:29.070274Z",
     "start_time": "2019-11-15T10:14:25.430809Z"
    }
   },
   "outputs": [],
   "source": [
    "div = dmelSites.groupby(['id','type','pop'])['div'].sum().reset_index()\n",
    "div = div.pivot_table(index=['id','pop'],columns=['type'],values='div').reset_index()\n",
    "div.columns = ['id','pop','di','d0']"
   ]
  },
  {
   "cell_type": "code",
   "execution_count": 46,
   "metadata": {
    "ExecuteTime": {
     "end_time": "2019-11-15T10:14:29.670926Z",
     "start_time": "2019-11-15T10:14:29.658744Z"
    }
   },
   "outputs": [
    {
     "data": {
      "text/html": [
       "<div>\n",
       "<style scoped>\n",
       "    .dataframe tbody tr th:only-of-type {\n",
       "        vertical-align: middle;\n",
       "    }\n",
       "\n",
       "    .dataframe tbody tr th {\n",
       "        vertical-align: top;\n",
       "    }\n",
       "\n",
       "    .dataframe thead th {\n",
       "        text-align: right;\n",
       "    }\n",
       "</style>\n",
       "<table border=\"1\" class=\"dataframe\">\n",
       "  <thead>\n",
       "    <tr style=\"text-align: right;\">\n",
       "      <th></th>\n",
       "      <th>id</th>\n",
       "      <th>pop</th>\n",
       "      <th>di</th>\n",
       "      <th>d0</th>\n",
       "    </tr>\n",
       "  </thead>\n",
       "  <tbody>\n",
       "    <tr>\n",
       "      <th>0</th>\n",
       "      <td>FBgn0000008</td>\n",
       "      <td>CHB</td>\n",
       "      <td>27.0</td>\n",
       "      <td>34.0</td>\n",
       "    </tr>\n",
       "    <tr>\n",
       "      <th>1</th>\n",
       "      <td>FBgn0000008</td>\n",
       "      <td>CO</td>\n",
       "      <td>25.0</td>\n",
       "      <td>33.0</td>\n",
       "    </tr>\n",
       "    <tr>\n",
       "      <th>2</th>\n",
       "      <td>FBgn0000008</td>\n",
       "      <td>EA</td>\n",
       "      <td>27.0</td>\n",
       "      <td>36.0</td>\n",
       "    </tr>\n",
       "    <tr>\n",
       "      <th>3</th>\n",
       "      <td>FBgn0000008</td>\n",
       "      <td>EF</td>\n",
       "      <td>27.0</td>\n",
       "      <td>33.0</td>\n",
       "    </tr>\n",
       "    <tr>\n",
       "      <th>4</th>\n",
       "      <td>FBgn0000008</td>\n",
       "      <td>EG</td>\n",
       "      <td>27.0</td>\n",
       "      <td>36.0</td>\n",
       "    </tr>\n",
       "  </tbody>\n",
       "</table>\n",
       "</div>"
      ],
      "text/plain": [
       "            id  pop    di    d0\n",
       "0  FBgn0000008  CHB  27.0  34.0\n",
       "1  FBgn0000008   CO  25.0  33.0\n",
       "2  FBgn0000008   EA  27.0  36.0\n",
       "3  FBgn0000008   EF  27.0  33.0\n",
       "4  FBgn0000008   EG  27.0  36.0"
      ]
     },
     "execution_count": 46,
     "metadata": {},
     "output_type": "execute_result"
    }
   ],
   "source": [
    "div.head()"
   ]
  },
  {
   "cell_type": "code",
   "execution_count": 47,
   "metadata": {
    "ExecuteTime": {
     "end_time": "2019-11-15T10:14:30.301996Z",
     "start_time": "2019-11-15T10:14:30.256886Z"
    }
   },
   "outputs": [
    {
     "name": "stdout",
     "output_type": "stream",
     "text": [
      "253685.0\n",
      "236315.0\n"
     ]
    }
   ],
   "source": [
    "print(div[div['pop']=='RAL'].di.sum())\n",
    "print(div[div['pop']=='RAL'].d0.sum())"
   ]
  },
  {
   "cell_type": "markdown",
   "metadata": {},
   "source": [
    "#### Derived Allele Frequency"
   ]
  },
  {
   "cell_type": "code",
   "execution_count": 49,
   "metadata": {
    "ExecuteTime": {
     "end_time": "2019-11-15T10:18:43.441268Z",
     "start_time": "2019-11-15T10:14:48.822348Z"
    }
   },
   "outputs": [],
   "source": [
    "daf = dmelSites[['id','rawDerivedAllele','type','pop']][dmelSites['rawDerivedAllele']!=0]\n",
    "\n",
    "bins = np.arange(0,1.05,0.05)\n",
    "labels =  np.arange(0.05,1.05,0.05)\n",
    "\n",
    "daf['categories'] = pd.cut(daf['rawDerivedAllele'],bins=bins,labels=labels)\n",
    "\n",
    "sfs = daf.groupby(['id','type','categories','pop']).count().reset_index()\n",
    "sfs['rawDerivedAllele'] = sfs['rawDerivedAllele'].fillna(0).astype(int)\n",
    "sfs = sfs.groupby(['id','pop','type'])['rawDerivedAllele'].apply(list).reset_index()\n",
    "\n",
    "sfs = sfs.pivot_table(index=['id','pop'], columns=['type'],values='rawDerivedAllele',aggfunc=lambda x:x).reset_index()\n",
    "sfs['p0'] = sfs['4fold'].apply(lambda x: sum(x))\n",
    "sfs['pi'] = sfs['0fold'].apply(lambda x: sum(x))\n",
    "\n",
    "sfs['0fold'] = sfs['0fold'].apply(lambda x:';'.join(map(str,x)))\n",
    "sfs['4fold'] = sfs['4fold'].apply(lambda x:';'.join(map(str,x)))\n",
    "\n",
    "sfs.columns = ['id','pop','daf0f','daf4f','p0','pi']"
   ]
  },
  {
   "cell_type": "code",
   "execution_count": 50,
   "metadata": {
    "ExecuteTime": {
     "end_time": "2019-11-15T10:18:44.069526Z",
     "start_time": "2019-11-15T10:18:43.963875Z"
    }
   },
   "outputs": [
    {
     "data": {
      "text/html": [
       "<div>\n",
       "<style scoped>\n",
       "    .dataframe tbody tr th:only-of-type {\n",
       "        vertical-align: middle;\n",
       "    }\n",
       "\n",
       "    .dataframe tbody tr th {\n",
       "        vertical-align: top;\n",
       "    }\n",
       "\n",
       "    .dataframe thead th {\n",
       "        text-align: right;\n",
       "    }\n",
       "</style>\n",
       "<table border=\"1\" class=\"dataframe\">\n",
       "  <thead>\n",
       "    <tr style=\"text-align: right;\">\n",
       "      <th></th>\n",
       "      <th>id</th>\n",
       "      <th>pop</th>\n",
       "      <th>daf0f</th>\n",
       "      <th>daf4f</th>\n",
       "      <th>p0</th>\n",
       "      <th>pi</th>\n",
       "    </tr>\n",
       "  </thead>\n",
       "  <tbody>\n",
       "    <tr>\n",
       "      <th>9</th>\n",
       "      <td>FBgn0000008</td>\n",
       "      <td>RAL</td>\n",
       "      <td>30;7;4;0;1;0;0;0;1;1;0;0;1;0;0;0;0;0;0;0</td>\n",
       "      <td>24;5;3;3;0;0;1;1;1;0;1;1;0;1;0;0;1;0;0;0</td>\n",
       "      <td>42</td>\n",
       "      <td>45</td>\n",
       "    </tr>\n",
       "    <tr>\n",
       "      <th>25</th>\n",
       "      <td>FBgn0000014</td>\n",
       "      <td>RAL</td>\n",
       "      <td>2;0;0;0;0;0;0;0;0;0;0;0;0;0;0;0;0;0;0;0</td>\n",
       "      <td>1;0;1;1;0;0;0;0;0;0;0;0;0;0;0;0;0;0;1;0</td>\n",
       "      <td>4</td>\n",
       "      <td>2</td>\n",
       "    </tr>\n",
       "    <tr>\n",
       "      <th>41</th>\n",
       "      <td>FBgn0000015</td>\n",
       "      <td>RAL</td>\n",
       "      <td>3;0;0;0;0;1;0;0;0;0;0;0;0;0;0;0;0;0;0;0</td>\n",
       "      <td>5;0;3;1;0;1;0;0;0;0;1;0;0;1;1;0;0;0;0;0</td>\n",
       "      <td>13</td>\n",
       "      <td>4</td>\n",
       "    </tr>\n",
       "    <tr>\n",
       "      <th>57</th>\n",
       "      <td>FBgn0000017</td>\n",
       "      <td>RAL</td>\n",
       "      <td>12;0;0;0;0;0;0;0;0;0;0;0;0;0;0;0;0;0;0;0</td>\n",
       "      <td>14;2;0;1;0;0;0;0;0;0;0;0;0;0;2;0;0;0;0;2</td>\n",
       "      <td>21</td>\n",
       "      <td>12</td>\n",
       "    </tr>\n",
       "    <tr>\n",
       "      <th>73</th>\n",
       "      <td>FBgn0000018</td>\n",
       "      <td>RAL</td>\n",
       "      <td>5;0;0;0;0;1;0;0;1;1;0;0;2;1;0;0;0;0;0;0</td>\n",
       "      <td>5;3;1;0;0;0;2;0;1;1;0;0;0;0;0;0;0;0;0;0</td>\n",
       "      <td>13</td>\n",
       "      <td>11</td>\n",
       "    </tr>\n",
       "  </tbody>\n",
       "</table>\n",
       "</div>"
      ],
      "text/plain": [
       "             id  pop                                     daf0f  \\\n",
       "9   FBgn0000008  RAL  30;7;4;0;1;0;0;0;1;1;0;0;1;0;0;0;0;0;0;0   \n",
       "25  FBgn0000014  RAL   2;0;0;0;0;0;0;0;0;0;0;0;0;0;0;0;0;0;0;0   \n",
       "41  FBgn0000015  RAL   3;0;0;0;0;1;0;0;0;0;0;0;0;0;0;0;0;0;0;0   \n",
       "57  FBgn0000017  RAL  12;0;0;0;0;0;0;0;0;0;0;0;0;0;0;0;0;0;0;0   \n",
       "73  FBgn0000018  RAL   5;0;0;0;0;1;0;0;1;1;0;0;2;1;0;0;0;0;0;0   \n",
       "\n",
       "                                       daf4f  p0  pi  \n",
       "9   24;5;3;3;0;0;1;1;1;0;1;1;0;1;0;0;1;0;0;0  42  45  \n",
       "25   1;0;1;1;0;0;0;0;0;0;0;0;0;0;0;0;0;0;1;0   4   2  \n",
       "41   5;0;3;1;0;1;0;0;0;0;1;0;0;1;1;0;0;0;0;0  13   4  \n",
       "57  14;2;0;1;0;0;0;0;0;0;0;0;0;0;2;0;0;0;0;2  21  12  \n",
       "73   5;3;1;0;0;0;2;0;1;1;0;0;0;0;0;0;0;0;0;0  13  11  "
      ]
     },
     "execution_count": 50,
     "metadata": {},
     "output_type": "execute_result"
    }
   ],
   "source": [
    "sfs[(sfs['pop']=='RAL')].head()"
   ]
  },
  {
   "cell_type": "code",
   "execution_count": 51,
   "metadata": {
    "ExecuteTime": {
     "end_time": "2019-11-15T10:18:44.119109Z",
     "start_time": "2019-11-15T10:18:44.071932Z"
    },
    "scrolled": true
   },
   "outputs": [
    {
     "name": "stdout",
     "output_type": "stream",
     "text": [
      "130978\n",
      "167254\n"
     ]
    }
   ],
   "source": [
    "print(sfs[sfs['pop']=='RAL'].pi.sum())\n",
    "print(sfs[sfs['pop']=='RAL'].p0.sum())"
   ]
  },
  {
   "cell_type": "markdown",
   "metadata": {},
   "source": [
    "#### Merge info"
   ]
  },
  {
   "cell_type": "code",
   "execution_count": 52,
   "metadata": {
    "ExecuteTime": {
     "end_time": "2019-11-15T10:19:07.246790Z",
     "start_time": "2019-11-15T10:19:07.025667Z"
    }
   },
   "outputs": [],
   "source": [
    "PopFlyData = pd.merge(sfs,div,on=['id','pop'],how='outer')"
   ]
  },
  {
   "cell_type": "code",
   "execution_count": 53,
   "metadata": {
    "ExecuteTime": {
     "end_time": "2019-11-15T10:19:08.305349Z",
     "start_time": "2019-11-15T10:19:07.249631Z"
    }
   },
   "outputs": [],
   "source": [
    "dfGenes = pd.read_csv(DATA + '/annotations/flybaseGenesCleaned.tab',sep='\\t',header=0)\n",
    "pops=['AUS','CHB','CO','EA','EF','EG','FR','GA','NTH','RAL','RG','SD','SP','USI','USW','ZI']                                   \n",
    "genesByPop = pd.DataFrame()\n",
    "\n",
    "for p in pops:\n",
    "    \n",
    "    dfGenes['pop'] = p\n",
    "    genesByPop = genesByPop.append(dfGenes)\n",
    "    \n",
    "genesByPop = genesByPop.reset_index(drop=True)"
   ]
  },
  {
   "cell_type": "code",
   "execution_count": 54,
   "metadata": {
    "ExecuteTime": {
     "end_time": "2019-11-15T10:19:08.831923Z",
     "start_time": "2019-11-15T10:19:08.308117Z"
    },
    "scrolled": false
   },
   "outputs": [
    {
     "name": "stdout",
     "output_type": "stream",
     "text": [
      "AUS\n",
      "CHB\n",
      "CO\n",
      "EA\n",
      "EF\n",
      "EG\n",
      "FR\n",
      "GA\n",
      "NTH\n",
      "RAL\n",
      "RG\n",
      "SD\n",
      "SP\n",
      "USI\n",
      "USW\n",
      "ZI\n"
     ]
    }
   ],
   "source": [
    "pops=['AUS','CHB','CO','EA','EF','EG','FR','GA','NTH','RAL','RG','SD','SP','USI','USW','ZI']                                   \n",
    "refAnalizableSites = pd.read_csv(DATA+'/refAnalyzableSites.tab',sep='\\t',header=0)\n",
    "\n",
    "totalFoldPositionsByPop = pd.DataFrame()\n",
    "for p in pops:\n",
    "    print(p)\n",
    "    refAnalizableSites['pop'] = p\n",
    "    \n",
    "    totalFoldPositionsByPop = totalFoldPositionsByPop.append(refAnalizableSites)\n",
    "\n",
    "totalFoldPositionsByPop = totalFoldPositionsByPop.reset_index(drop=True)"
   ]
  },
  {
   "cell_type": "code",
   "execution_count": 55,
   "metadata": {
    "ExecuteTime": {
     "end_time": "2019-11-15T10:19:09.024536Z",
     "start_time": "2019-11-15T10:19:08.834453Z"
    }
   },
   "outputs": [],
   "source": [
    "genesByPop = pd.merge(genesByPop,totalFoldPositionsByPop,on=['id','pop'],how='outer')"
   ]
  },
  {
   "cell_type": "code",
   "execution_count": 56,
   "metadata": {
    "ExecuteTime": {
     "end_time": "2019-11-15T10:19:10.133935Z",
     "start_time": "2019-11-15T10:19:09.026704Z"
    },
    "scrolled": true
   },
   "outputs": [
    {
     "name": "stderr",
     "output_type": "stream",
     "text": [
      "/home/jmurga/.conda/envs/proteins/lib/python3.6/site-packages/pandas/core/indexing.py:543: SettingWithCopyWarning: \n",
      "A value is trying to be set on a copy of a slice from a DataFrame.\n",
      "Try using .loc[row_indexer,col_indexer] = value instead\n",
      "\n",
      "See the caveats in the documentation: http://pandas.pydata.org/pandas-docs/stable/indexing.html#indexing-view-versus-copy\n",
      "  self.obj[item] = s\n"
     ]
    }
   ],
   "source": [
    "PopFlyData = pd.merge(PopFlyData,genesByPop,on=['id','pop'],how='outer')\n",
    "PopFlyData[PopFlyData['daf0f'].isna()].loc[:,'daf0f'] = '0;0;0;0;0;0;0;0;0;0;0;0;0;0;0;0;0;0;0;0'\n",
    "PopFlyData[PopFlyData['daf4f'].isna()].loc[:,'daf4f'] = '0;0;0;0;0;0;0;0;0;0;0;0;0;0;0;0;0;0;0;0'\n",
    "PopFlyData['daf0f'] = PopFlyData['daf0f'].fillna('0;0;0;0;0;0;0;0;0;0;0;0;0;0;0;0;0;0;0;0')\n",
    "PopFlyData['daf4f'] = PopFlyData['daf4f'].fillna('0;0;0;0;0;0;0;0;0;0;0;0;0;0;0;0;0;0;0;0')\n",
    "PopFlyData = PopFlyData.fillna(0)"
   ]
  },
  {
   "cell_type": "code",
   "execution_count": 57,
   "metadata": {
    "ExecuteTime": {
     "end_time": "2019-11-15T10:19:10.318305Z",
     "start_time": "2019-11-15T10:19:10.136268Z"
    }
   },
   "outputs": [],
   "source": [
    "dfRecomb = pd.read_csv(DATA + '/genesRecombination.tab',sep='\\t')\n",
    "dfRecomb.columns = ['id','recomb']\n",
    "PopFlyData = pd.merge(PopFlyData,dfRecomb,on=['id'])"
   ]
  },
  {
   "cell_type": "code",
   "execution_count": 58,
   "metadata": {
    "ExecuteTime": {
     "end_time": "2019-11-15T10:19:10.346066Z",
     "start_time": "2019-11-15T10:19:10.320483Z"
    }
   },
   "outputs": [
    {
     "data": {
      "text/html": [
       "<div>\n",
       "<style scoped>\n",
       "    .dataframe tbody tr th:only-of-type {\n",
       "        vertical-align: middle;\n",
       "    }\n",
       "\n",
       "    .dataframe tbody tr th {\n",
       "        vertical-align: top;\n",
       "    }\n",
       "\n",
       "    .dataframe thead th {\n",
       "        text-align: right;\n",
       "    }\n",
       "</style>\n",
       "<table border=\"1\" class=\"dataframe\">\n",
       "  <thead>\n",
       "    <tr style=\"text-align: right;\">\n",
       "      <th></th>\n",
       "      <th>id</th>\n",
       "      <th>pop</th>\n",
       "      <th>daf0f</th>\n",
       "      <th>daf4f</th>\n",
       "      <th>p0</th>\n",
       "      <th>pi</th>\n",
       "      <th>di</th>\n",
       "      <th>d0</th>\n",
       "      <th>chr</th>\n",
       "      <th>startGene</th>\n",
       "      <th>endGene</th>\n",
       "      <th>strand</th>\n",
       "      <th>name</th>\n",
       "      <th>mi</th>\n",
       "      <th>m0</th>\n",
       "      <th>recomb</th>\n",
       "    </tr>\n",
       "  </thead>\n",
       "  <tbody>\n",
       "    <tr>\n",
       "      <th>0</th>\n",
       "      <td>FBgn0000008</td>\n",
       "      <td>AUS</td>\n",
       "      <td>0;0;0;0;0;0;0;0;0;0;0;0;0;0;0;0;0;0;0;0</td>\n",
       "      <td>0;0;0;0;0;0;0;0;0;0;0;0;0;0;0;0;0;0;0;0</td>\n",
       "      <td>0.0</td>\n",
       "      <td>0.0</td>\n",
       "      <td>0.0</td>\n",
       "      <td>0.0</td>\n",
       "      <td>2R</td>\n",
       "      <td>18024473</td>\n",
       "      <td>18060339</td>\n",
       "      <td>+</td>\n",
       "      <td>a</td>\n",
       "      <td>2539</td>\n",
       "      <td>667</td>\n",
       "      <td>2.169284</td>\n",
       "    </tr>\n",
       "    <tr>\n",
       "      <th>1</th>\n",
       "      <td>FBgn0000008</td>\n",
       "      <td>CHB</td>\n",
       "      <td>0;3;0;1;1;0;0;0;0;0;0;0;0;0;1;0;1;0;1;0</td>\n",
       "      <td>0;4;0;1;1;0;0;0;1;1;0;2;0;0;0;0;1;0;2;0</td>\n",
       "      <td>13.0</td>\n",
       "      <td>8.0</td>\n",
       "      <td>27.0</td>\n",
       "      <td>34.0</td>\n",
       "      <td>2R</td>\n",
       "      <td>18024473</td>\n",
       "      <td>18060339</td>\n",
       "      <td>+</td>\n",
       "      <td>a</td>\n",
       "      <td>2539</td>\n",
       "      <td>667</td>\n",
       "      <td>2.169284</td>\n",
       "    </tr>\n",
       "    <tr>\n",
       "      <th>2</th>\n",
       "      <td>FBgn0000008</td>\n",
       "      <td>CO</td>\n",
       "      <td>0;0;11;0;0;0;0;0;1;0;0;0;0;0;0;1;0;0;0;0</td>\n",
       "      <td>0;0;6;0;6;0;3;0;6;0;0;0;0;1;0;2;0;0;0;0</td>\n",
       "      <td>24.0</td>\n",
       "      <td>13.0</td>\n",
       "      <td>25.0</td>\n",
       "      <td>33.0</td>\n",
       "      <td>2R</td>\n",
       "      <td>18024473</td>\n",
       "      <td>18060339</td>\n",
       "      <td>+</td>\n",
       "      <td>a</td>\n",
       "      <td>2539</td>\n",
       "      <td>667</td>\n",
       "      <td>2.169284</td>\n",
       "    </tr>\n",
       "    <tr>\n",
       "      <th>3</th>\n",
       "      <td>FBgn0000008</td>\n",
       "      <td>EA</td>\n",
       "      <td>0;11;0;1;0;0;0;1;0;1;0;0;0;0;0;0;0;1;0;0</td>\n",
       "      <td>0;10;0;6;0;3;0;2;0;0;0;1;0;1;0;1;0;0;0;0</td>\n",
       "      <td>24.0</td>\n",
       "      <td>15.0</td>\n",
       "      <td>27.0</td>\n",
       "      <td>36.0</td>\n",
       "      <td>2R</td>\n",
       "      <td>18024473</td>\n",
       "      <td>18060339</td>\n",
       "      <td>+</td>\n",
       "      <td>a</td>\n",
       "      <td>2539</td>\n",
       "      <td>667</td>\n",
       "      <td>2.169284</td>\n",
       "    </tr>\n",
       "    <tr>\n",
       "      <th>4</th>\n",
       "      <td>FBgn0000008</td>\n",
       "      <td>EF</td>\n",
       "      <td>8;3;3;0;1;0;0;0;0;0;0;0;0;0;0;1;0;0;0;0</td>\n",
       "      <td>11;5;1;8;1;3;1;1;2;0;0;2;0;0;0;0;1;0;0;0</td>\n",
       "      <td>36.0</td>\n",
       "      <td>16.0</td>\n",
       "      <td>27.0</td>\n",
       "      <td>33.0</td>\n",
       "      <td>2R</td>\n",
       "      <td>18024473</td>\n",
       "      <td>18060339</td>\n",
       "      <td>+</td>\n",
       "      <td>a</td>\n",
       "      <td>2539</td>\n",
       "      <td>667</td>\n",
       "      <td>2.169284</td>\n",
       "    </tr>\n",
       "  </tbody>\n",
       "</table>\n",
       "</div>"
      ],
      "text/plain": [
       "            id  pop                                     daf0f  \\\n",
       "0  FBgn0000008  AUS   0;0;0;0;0;0;0;0;0;0;0;0;0;0;0;0;0;0;0;0   \n",
       "1  FBgn0000008  CHB   0;3;0;1;1;0;0;0;0;0;0;0;0;0;1;0;1;0;1;0   \n",
       "2  FBgn0000008   CO  0;0;11;0;0;0;0;0;1;0;0;0;0;0;0;1;0;0;0;0   \n",
       "3  FBgn0000008   EA  0;11;0;1;0;0;0;1;0;1;0;0;0;0;0;0;0;1;0;0   \n",
       "4  FBgn0000008   EF   8;3;3;0;1;0;0;0;0;0;0;0;0;0;0;1;0;0;0;0   \n",
       "\n",
       "                                      daf4f    p0    pi    di    d0 chr  \\\n",
       "0   0;0;0;0;0;0;0;0;0;0;0;0;0;0;0;0;0;0;0;0   0.0   0.0   0.0   0.0  2R   \n",
       "1   0;4;0;1;1;0;0;0;1;1;0;2;0;0;0;0;1;0;2;0  13.0   8.0  27.0  34.0  2R   \n",
       "2   0;0;6;0;6;0;3;0;6;0;0;0;0;1;0;2;0;0;0;0  24.0  13.0  25.0  33.0  2R   \n",
       "3  0;10;0;6;0;3;0;2;0;0;0;1;0;1;0;1;0;0;0;0  24.0  15.0  27.0  36.0  2R   \n",
       "4  11;5;1;8;1;3;1;1;2;0;0;2;0;0;0;0;1;0;0;0  36.0  16.0  27.0  33.0  2R   \n",
       "\n",
       "   startGene   endGene strand name    mi   m0    recomb  \n",
       "0   18024473  18060339      +    a  2539  667  2.169284  \n",
       "1   18024473  18060339      +    a  2539  667  2.169284  \n",
       "2   18024473  18060339      +    a  2539  667  2.169284  \n",
       "3   18024473  18060339      +    a  2539  667  2.169284  \n",
       "4   18024473  18060339      +    a  2539  667  2.169284  "
      ]
     },
     "execution_count": 58,
     "metadata": {},
     "output_type": "execute_result"
    }
   ],
   "source": [
    "PopFlyData.head()"
   ]
  },
  {
   "cell_type": "code",
   "execution_count": null,
   "metadata": {
    "ExecuteTime": {
     "end_time": "2019-11-15T10:21:50.808485Z",
     "start_time": "2019-11-15T10:21:50.627530Z"
    }
   },
   "outputs": [],
   "source": [
    "PopFlyData = PopFlyData[['id','pop','daf0f','daf4f','p0','pi','di','d0','chr','name','mi','m0','recomb']]"
   ]
  },
  {
   "cell_type": "code",
   "execution_count": 62,
   "metadata": {
    "ExecuteTime": {
     "end_time": "2019-11-15T10:32:46.094490Z",
     "start_time": "2019-11-15T10:32:46.057414Z"
    }
   },
   "outputs": [
    {
     "data": {
      "text/html": [
       "<div>\n",
       "<style scoped>\n",
       "    .dataframe tbody tr th:only-of-type {\n",
       "        vertical-align: middle;\n",
       "    }\n",
       "\n",
       "    .dataframe tbody tr th {\n",
       "        vertical-align: top;\n",
       "    }\n",
       "\n",
       "    .dataframe thead th {\n",
       "        text-align: right;\n",
       "    }\n",
       "</style>\n",
       "<table border=\"1\" class=\"dataframe\">\n",
       "  <thead>\n",
       "    <tr style=\"text-align: right;\">\n",
       "      <th></th>\n",
       "      <th>Name</th>\n",
       "      <th>Pop</th>\n",
       "      <th>DAF0f</th>\n",
       "      <th>DAF4f</th>\n",
       "      <th>p0</th>\n",
       "      <th>pi</th>\n",
       "      <th>di</th>\n",
       "      <th>d0</th>\n",
       "      <th>chr</th>\n",
       "      <th>symbol</th>\n",
       "      <th>mi</th>\n",
       "      <th>m0</th>\n",
       "      <th>recomb</th>\n",
       "    </tr>\n",
       "  </thead>\n",
       "  <tbody>\n",
       "    <tr>\n",
       "      <th>0</th>\n",
       "      <td>FBgn0000008</td>\n",
       "      <td>AUS</td>\n",
       "      <td>0;0;0;0;0;0;0;0;0;0;0;0;0;0;0;0;0;0;0;0</td>\n",
       "      <td>0;0;0;0;0;0;0;0;0;0;0;0;0;0;0;0;0;0;0;0</td>\n",
       "      <td>0.0</td>\n",
       "      <td>0.0</td>\n",
       "      <td>0.0</td>\n",
       "      <td>0.0</td>\n",
       "      <td>2R</td>\n",
       "      <td>a</td>\n",
       "      <td>2539</td>\n",
       "      <td>667</td>\n",
       "      <td>2.169284</td>\n",
       "    </tr>\n",
       "    <tr>\n",
       "      <th>1</th>\n",
       "      <td>FBgn0000008</td>\n",
       "      <td>CHB</td>\n",
       "      <td>0;3;0;1;1;0;0;0;0;0;0;0;0;0;1;0;1;0;1;0</td>\n",
       "      <td>0;4;0;1;1;0;0;0;1;1;0;2;0;0;0;0;1;0;2;0</td>\n",
       "      <td>13.0</td>\n",
       "      <td>8.0</td>\n",
       "      <td>27.0</td>\n",
       "      <td>34.0</td>\n",
       "      <td>2R</td>\n",
       "      <td>a</td>\n",
       "      <td>2539</td>\n",
       "      <td>667</td>\n",
       "      <td>2.169284</td>\n",
       "    </tr>\n",
       "    <tr>\n",
       "      <th>2</th>\n",
       "      <td>FBgn0000008</td>\n",
       "      <td>CO</td>\n",
       "      <td>0;0;11;0;0;0;0;0;1;0;0;0;0;0;0;1;0;0;0;0</td>\n",
       "      <td>0;0;6;0;6;0;3;0;6;0;0;0;0;1;0;2;0;0;0;0</td>\n",
       "      <td>24.0</td>\n",
       "      <td>13.0</td>\n",
       "      <td>25.0</td>\n",
       "      <td>33.0</td>\n",
       "      <td>2R</td>\n",
       "      <td>a</td>\n",
       "      <td>2539</td>\n",
       "      <td>667</td>\n",
       "      <td>2.169284</td>\n",
       "    </tr>\n",
       "    <tr>\n",
       "      <th>3</th>\n",
       "      <td>FBgn0000008</td>\n",
       "      <td>EA</td>\n",
       "      <td>0;11;0;1;0;0;0;1;0;1;0;0;0;0;0;0;0;1;0;0</td>\n",
       "      <td>0;10;0;6;0;3;0;2;0;0;0;1;0;1;0;1;0;0;0;0</td>\n",
       "      <td>24.0</td>\n",
       "      <td>15.0</td>\n",
       "      <td>27.0</td>\n",
       "      <td>36.0</td>\n",
       "      <td>2R</td>\n",
       "      <td>a</td>\n",
       "      <td>2539</td>\n",
       "      <td>667</td>\n",
       "      <td>2.169284</td>\n",
       "    </tr>\n",
       "    <tr>\n",
       "      <th>4</th>\n",
       "      <td>FBgn0000008</td>\n",
       "      <td>EF</td>\n",
       "      <td>8;3;3;0;1;0;0;0;0;0;0;0;0;0;0;1;0;0;0;0</td>\n",
       "      <td>11;5;1;8;1;3;1;1;2;0;0;2;0;0;0;0;1;0;0;0</td>\n",
       "      <td>36.0</td>\n",
       "      <td>16.0</td>\n",
       "      <td>27.0</td>\n",
       "      <td>33.0</td>\n",
       "      <td>2R</td>\n",
       "      <td>a</td>\n",
       "      <td>2539</td>\n",
       "      <td>667</td>\n",
       "      <td>2.169284</td>\n",
       "    </tr>\n",
       "  </tbody>\n",
       "</table>\n",
       "</div>"
      ],
      "text/plain": [
       "          Name  Pop                                     DAF0f  \\\n",
       "0  FBgn0000008  AUS   0;0;0;0;0;0;0;0;0;0;0;0;0;0;0;0;0;0;0;0   \n",
       "1  FBgn0000008  CHB   0;3;0;1;1;0;0;0;0;0;0;0;0;0;1;0;1;0;1;0   \n",
       "2  FBgn0000008   CO  0;0;11;0;0;0;0;0;1;0;0;0;0;0;0;1;0;0;0;0   \n",
       "3  FBgn0000008   EA  0;11;0;1;0;0;0;1;0;1;0;0;0;0;0;0;0;1;0;0   \n",
       "4  FBgn0000008   EF   8;3;3;0;1;0;0;0;0;0;0;0;0;0;0;1;0;0;0;0   \n",
       "\n",
       "                                      DAF4f    p0    pi    di    d0 chr  \\\n",
       "0   0;0;0;0;0;0;0;0;0;0;0;0;0;0;0;0;0;0;0;0   0.0   0.0   0.0   0.0  2R   \n",
       "1   0;4;0;1;1;0;0;0;1;1;0;2;0;0;0;0;1;0;2;0  13.0   8.0  27.0  34.0  2R   \n",
       "2   0;0;6;0;6;0;3;0;6;0;0;0;0;1;0;2;0;0;0;0  24.0  13.0  25.0  33.0  2R   \n",
       "3  0;10;0;6;0;3;0;2;0;0;0;1;0;1;0;1;0;0;0;0  24.0  15.0  27.0  36.0  2R   \n",
       "4  11;5;1;8;1;3;1;1;2;0;0;2;0;0;0;0;1;0;0;0  36.0  16.0  27.0  33.0  2R   \n",
       "\n",
       "  symbol    mi   m0    recomb  \n",
       "0      a  2539  667  2.169284  \n",
       "1      a  2539  667  2.169284  \n",
       "2      a  2539  667  2.169284  \n",
       "3      a  2539  667  2.169284  \n",
       "4      a  2539  667  2.169284  "
      ]
     },
     "execution_count": 62,
     "metadata": {},
     "output_type": "execute_result"
    }
   ],
   "source": [
    "PopFlyData.columns = ['Name','Pop','DAF0f','DAF4f','p0','pi','di','d0','chr','symbol','mi','m0','recomb']\n",
    "PopFlyData.head()"
   ]
  },
  {
   "cell_type": "code",
   "execution_count": 63,
   "metadata": {
    "ExecuteTime": {
     "end_time": "2019-11-15T10:32:53.266636Z",
     "start_time": "2019-11-15T10:32:50.182758Z"
    }
   },
   "outputs": [],
   "source": [
    "PopFlyData.to_csv('/home/jmurga/mkt/201903/results/dsimDmelManual.tab',sep='\\t',header=True,index=False)"
   ]
  }
 ],
 "metadata": {
  "kernelspec": {
   "display_name": "Python 3",
   "language": "python",
   "name": "python3"
  },
  "language_info": {
   "codemirror_mode": {
    "name": "ipython",
    "version": 3
   },
   "file_extension": ".py",
   "mimetype": "text/x-python",
   "name": "python",
   "nbconvert_exporter": "python",
   "pygments_lexer": "ipython3",
   "version": "3.6.7"
  },
  "toc": {
   "base_numbering": 1,
   "nav_menu": {},
   "number_sections": true,
   "sideBar": true,
   "skip_h1_title": false,
   "title_cell": "Table of Contents",
   "title_sidebar": "Contents",
   "toc_cell": false,
   "toc_position": {
    "height": "calc(100% - 180px)",
    "left": "10px",
    "top": "150px",
    "width": "165px"
   },
   "toc_section_display": true,
   "toc_window_display": true
  },
  "varInspector": {
   "cols": {
    "lenName": 16,
    "lenType": 16,
    "lenVar": 40
   },
   "kernels_config": {
    "python": {
     "delete_cmd_postfix": "",
     "delete_cmd_prefix": "del ",
     "library": "var_list.py",
     "varRefreshCmd": "print(var_dic_list())"
    },
    "r": {
     "delete_cmd_postfix": ") ",
     "delete_cmd_prefix": "rm(",
     "library": "var_list.r",
     "varRefreshCmd": "cat(var_dic_list()) "
    }
   },
   "oldHeight": 122.85,
   "position": {
    "height": "307px",
    "left": "1010px",
    "right": "20px",
    "top": "120px",
    "width": "250px"
   },
   "types_to_exclude": [
    "module",
    "function",
    "builtin_function_or_method",
    "instance",
    "_Feature"
   ],
   "varInspector_section_display": "none",
   "window_display": false
  }
 },
 "nbformat": 4,
 "nbformat_minor": 2
}
